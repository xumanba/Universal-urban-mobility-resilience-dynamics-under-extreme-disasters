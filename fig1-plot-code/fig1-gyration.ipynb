{
 "cells": [
  {
   "cell_type": "code",
   "execution_count": 2,
   "metadata": {},
   "outputs": [
    {
     "name": "stdout",
     "output_type": "stream",
     "text": [
      "各距离范围中连边数量大于 0 的元组个数： [8506, 7677, 5069, 3063, 1457, 573, 210, 97, 26, 6]\n",
      "['1', '2', '3', '4', '5', '6', '7', '8', '9', '10']\n",
      "[0, 1, 2, 3, 4, 5, 6, 7, 8, 9]\n",
      "[5, 10, 15, 20, 25, 30, 35, 40, 45, 50]\n"
     ]
    },
    {
     "data": {
      "image/png": "[encoded data removed]",
      "text/plain": [
       "<Figure size 1200x200 with 1 Axes>"
      ]
     },
     "metadata": {},
     "output_type": "display_data"
    }
   ],
   "source": [
    "import json\n",
    "import sys\n",
    "import matplotlib.pyplot as plt\n",
    "import numpy as np\n",
    "import pandas as pd\n",
    "import tqdm\n",
    "\n",
    "def linear_func_ky(x):\n",
    "    x = np.array(x)\n",
    "    return 5620.0 * np.power((x + 1.0), 0.75) * np.exp(x / -5.5)\n",
    "\n",
    "x_data = []\n",
    "y_data = []\n",
    "\n",
    "state = 'KY'\n",
    "city = 'Louisville'\n",
    "date = '12-27'\n",
    "\n",
    "with open(f'{state}_{city}_{date}_Rij.json', 'r', encoding='utf-8') as f:\n",
    "    Rij_dict = json.load(f)\n",
    "\n",
    "with open(f'Aij_{state}_{city}_{date}.json', 'r', encoding='utf-8') as f:\n",
    "    Aij_dict = json.load(f)\n",
    "\n",
    "coordinate_list = []\n",
    "\n",
    "for k, v in Rij_dict.items():\n",
    "    for i in range(len(v)):\n",
    "        coordinate_tuple = (Rij_dict[k][i], Aij_dict[k][i])\n",
    "        coordinate_list.append(coordinate_tuple)\n",
    "\n",
    "\n",
    "\n",
    "# 创建 16 个列表，用于存储不同距离范围的元组\n",
    "groups = [[] for _ in range(10)]  # 16 个空列表，对应 0-5, 5-10, ..., 75-80\n",
    "\n",
    "# 根据距离将元组分组\n",
    "for distance, edge_count in coordinate_list:\n",
    "    if 0 <= distance < 5:\n",
    "        groups[0].append((distance, edge_count))\n",
    "    elif 5 <= distance < 10:\n",
    "        groups[1].append((distance, edge_count))\n",
    "    elif 10 <= distance < 15:\n",
    "        groups[2].append((distance, edge_count))\n",
    "    elif 15 <= distance < 20:\n",
    "        groups[3].append((distance, edge_count))\n",
    "    elif 20 <= distance < 25:\n",
    "        groups[4].append((distance, edge_count))\n",
    "    elif 25 <= distance < 30:\n",
    "        groups[5].append((distance, edge_count))\n",
    "    elif 30 <= distance < 35:\n",
    "        groups[6].append((distance, edge_count))\n",
    "    elif 35 <= distance < 40:\n",
    "        groups[7].append((distance, edge_count))\n",
    "    elif 40 <= distance < 45:\n",
    "        groups[8].append((distance, edge_count))\n",
    "    elif 45 <= distance < 50:\n",
    "        groups[9].append((distance, edge_count))\n",
    "\n",
    "# 统计每个组中第二个元素（连边数量）大于 0 的个数\n",
    "result_list = []\n",
    "for group in groups:\n",
    "    count = sum(1 for _, edge_count in group if edge_count > 0)\n",
    "    result_list.append(count)\n",
    "\n",
    "# 打印结果以验证\n",
    "print(\"各距离范围中连边数量大于 0 的元组个数：\", result_list)\n",
    "x = [str(i) for i in range(1, 11)]\n",
    "\n",
    "x1 = list(np.arange(0, 10, 1))\n",
    "x1_5 = [x * 5 for x in x1]\n",
    "x1_5_plus5 = [x + 5 for x in x1_5]\n",
    "\n",
    "print(x)\n",
    "print(x1)\n",
    "print(x1_5_plus5)\n",
    "\n",
    "plt.figure(figsize=(12, 2))\n",
    "plt.bar(x, result_list, color='grey', width=0.7)\n",
    "plt.plot(x1, linear_func_ky(x1_5_plus5), color='#666666', linestyle='-', linewidth=3.0,zorder=10)\n",
    "plt.yscale('log')\n",
    "plt.xticks([])  # 隐藏 x 轴刻度标签\n",
    "plt.yticks([])  # 隐藏 y 轴刻度标签\n",
    "plt.axis('off')\n",
    "\n",
    "plt.savefig('fig1补充/fig1-c.svg', format='svg', bbox_inches='tight')\n",
    "plt.show()"
   ]
  }
 ],
 "metadata": {
  "kernelspec": {
   "display_name": "Python 3",
   "language": "python",
   "name": "python3"
  },
  "language_info": {
   "codemirror_mode": {
    "name": "ipython",
    "version": 3
   },
   "file_extension": ".py",
   "mimetype": "text/x-python",
   "name": "python",
   "nbconvert_exporter": "python",
   "pygments_lexer": "ipython3",
   "version": "3.10.16"
  }
 },
 "nbformat": 4,
 "nbformat_minor": 2
}
