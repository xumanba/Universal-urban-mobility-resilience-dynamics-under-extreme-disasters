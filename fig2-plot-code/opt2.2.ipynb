{
 "cells": [
  {
   "cell_type": "code",
   "execution_count": null,
   "metadata": {},
   "outputs": [],
   "source": [
    "import matplotlib.pyplot as plt\n",
    "import pandas as pd\n",
    "\n",
    "fig_name = 'fig2.2'\n",
    "\n",
    "df4 = pd.read_csv(f'{fig_name}/theory_gamma1_beta1.5.csv')\n",
    "df5 = pd.read_csv(f'{fig_name}/theory_recover_gamma2_beta1.8.csv')\n",
    "\n",
    "# 创建散点图\n",
    "plt.figure(figsize=(10, 8))  # 设置图形大小\n",
    "\n",
    "# 绘制每个数据集的散点图，使用不同颜色和标签\n",
    "plt.plot(df4.iloc[:, 1], df4.iloc[:, 2], color='#666666')\n",
    "plt.plot(df5.iloc[:, 1], df5.iloc[:, 2], color='#a9a9a9')\n",
    "\n",
    "# 设置坐标轴为对数刻度\n",
    "plt.xscale('log')\n",
    "plt.yscale('log')\n",
    "\n",
    "plt.xlim(0.9, 300)\n",
    "plt.ylim(1, 50)\n",
    "\n",
    "# 增大刻度值的字体大小\n",
    "plt.tick_params(axis='both', labelsize=30)  # 'both' 表示 x 和 y 轴，labelsize 设置字体大小\n",
    "\n",
    "# 保存为 PDF 文件\n",
    "plt.savefig(f'fig2/{fig_name}-in.pdf', format='pdf', bbox_inches='tight')\n",
    "\n",
    "# 显示图形\n",
    "plt.show()"
   ]
  }
 ],
 "metadata": {
  "kernelspec": {
   "display_name": "Python 3",
   "language": "python",
   "name": "python3"
  },
  "language_info": {
   "codemirror_mode": {
    "name": "ipython",
    "version": 3
   },
   "file_extension": ".py",
   "mimetype": "text/x-python",
   "name": "python",
   "nbconvert_exporter": "python",
   "pygments_lexer": "ipython3",
   "version": "3.10.16"
  }
 },
 "nbformat": 4,
 "nbformat_minor": 2
}
